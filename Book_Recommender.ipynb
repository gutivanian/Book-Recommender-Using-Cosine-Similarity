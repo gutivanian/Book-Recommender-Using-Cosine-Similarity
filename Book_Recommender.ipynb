{
 "cells": [
  {
   "cell_type": "code",
   "execution_count": 1,
   "id": "c01bd9d1",
   "metadata": {},
   "outputs": [],
   "source": [
    "import pandas as pd\n",
    "import numpy as np\n",
    "import matplotlib.pyplot as plt\n",
    "import seaborn as sns\n",
    "import re\n",
    "from sklearn.feature_extraction.text import TfidfVectorizer\n",
    "from sklearn.metrics.pairwise import cosine_similarity"
   ]
  },
  {
   "cell_type": "code",
   "execution_count": 2,
   "id": "7da72651",
   "metadata": {},
   "outputs": [],
   "source": [
    "books = pd.read_csv('books.csv')"
   ]
  },
  {
   "cell_type": "markdown",
   "id": "b4923b8e",
   "metadata": {},
   "source": [
    "# Preprocessing"
   ]
  },
  {
   "cell_type": "code",
   "execution_count": 3,
   "id": "0b7fb335",
   "metadata": {},
   "outputs": [
    {
     "data": {
      "text/html": [
       "<div>\n",
       "<style scoped>\n",
       "    .dataframe tbody tr th:only-of-type {\n",
       "        vertical-align: middle;\n",
       "    }\n",
       "\n",
       "    .dataframe tbody tr th {\n",
       "        vertical-align: top;\n",
       "    }\n",
       "\n",
       "    .dataframe thead th {\n",
       "        text-align: right;\n",
       "    }\n",
       "</style>\n",
       "<table border=\"1\" class=\"dataframe\">\n",
       "  <thead>\n",
       "    <tr style=\"text-align: right;\">\n",
       "      <th></th>\n",
       "      <th>id</th>\n",
       "      <th>book_id</th>\n",
       "      <th>best_book_id</th>\n",
       "      <th>work_id</th>\n",
       "      <th>books_count</th>\n",
       "      <th>isbn13</th>\n",
       "      <th>original_publication_year</th>\n",
       "      <th>average_rating</th>\n",
       "      <th>ratings_count</th>\n",
       "      <th>work_ratings_count</th>\n",
       "      <th>work_text_reviews_count</th>\n",
       "      <th>ratings_1</th>\n",
       "      <th>ratings_2</th>\n",
       "      <th>ratings_3</th>\n",
       "      <th>ratings_4</th>\n",
       "      <th>ratings_5</th>\n",
       "    </tr>\n",
       "  </thead>\n",
       "  <tbody>\n",
       "    <tr>\n",
       "      <th>count</th>\n",
       "      <td>10000.00000</td>\n",
       "      <td>1.000000e+04</td>\n",
       "      <td>1.000000e+04</td>\n",
       "      <td>1.000000e+04</td>\n",
       "      <td>10000.000000</td>\n",
       "      <td>9.415000e+03</td>\n",
       "      <td>9979.000000</td>\n",
       "      <td>10000.000000</td>\n",
       "      <td>1.000000e+04</td>\n",
       "      <td>1.000000e+04</td>\n",
       "      <td>10000.000000</td>\n",
       "      <td>10000.000000</td>\n",
       "      <td>10000.000000</td>\n",
       "      <td>10000.000000</td>\n",
       "      <td>1.000000e+04</td>\n",
       "      <td>1.000000e+04</td>\n",
       "    </tr>\n",
       "    <tr>\n",
       "      <th>mean</th>\n",
       "      <td>5000.50000</td>\n",
       "      <td>5.264697e+06</td>\n",
       "      <td>5.471214e+06</td>\n",
       "      <td>8.646183e+06</td>\n",
       "      <td>75.712700</td>\n",
       "      <td>9.755044e+12</td>\n",
       "      <td>1981.987674</td>\n",
       "      <td>4.002191</td>\n",
       "      <td>5.400124e+04</td>\n",
       "      <td>5.968732e+04</td>\n",
       "      <td>2919.955300</td>\n",
       "      <td>1345.040600</td>\n",
       "      <td>3110.885000</td>\n",
       "      <td>11475.893800</td>\n",
       "      <td>1.996570e+04</td>\n",
       "      <td>2.378981e+04</td>\n",
       "    </tr>\n",
       "    <tr>\n",
       "      <th>std</th>\n",
       "      <td>2886.89568</td>\n",
       "      <td>7.575462e+06</td>\n",
       "      <td>7.827330e+06</td>\n",
       "      <td>1.175106e+07</td>\n",
       "      <td>170.470728</td>\n",
       "      <td>4.428619e+11</td>\n",
       "      <td>152.576665</td>\n",
       "      <td>0.254427</td>\n",
       "      <td>1.573700e+05</td>\n",
       "      <td>1.678038e+05</td>\n",
       "      <td>6124.378132</td>\n",
       "      <td>6635.626263</td>\n",
       "      <td>9717.123578</td>\n",
       "      <td>28546.449183</td>\n",
       "      <td>5.144736e+04</td>\n",
       "      <td>7.976889e+04</td>\n",
       "    </tr>\n",
       "    <tr>\n",
       "      <th>min</th>\n",
       "      <td>1.00000</td>\n",
       "      <td>1.000000e+00</td>\n",
       "      <td>1.000000e+00</td>\n",
       "      <td>8.700000e+01</td>\n",
       "      <td>1.000000</td>\n",
       "      <td>1.951703e+08</td>\n",
       "      <td>-1750.000000</td>\n",
       "      <td>2.470000</td>\n",
       "      <td>2.716000e+03</td>\n",
       "      <td>5.510000e+03</td>\n",
       "      <td>3.000000</td>\n",
       "      <td>11.000000</td>\n",
       "      <td>30.000000</td>\n",
       "      <td>323.000000</td>\n",
       "      <td>7.500000e+02</td>\n",
       "      <td>7.540000e+02</td>\n",
       "    </tr>\n",
       "    <tr>\n",
       "      <th>25%</th>\n",
       "      <td>2500.75000</td>\n",
       "      <td>4.627575e+04</td>\n",
       "      <td>4.791175e+04</td>\n",
       "      <td>1.008841e+06</td>\n",
       "      <td>23.000000</td>\n",
       "      <td>9.780316e+12</td>\n",
       "      <td>1990.000000</td>\n",
       "      <td>3.850000</td>\n",
       "      <td>1.356875e+04</td>\n",
       "      <td>1.543875e+04</td>\n",
       "      <td>694.000000</td>\n",
       "      <td>196.000000</td>\n",
       "      <td>656.000000</td>\n",
       "      <td>3112.000000</td>\n",
       "      <td>5.405750e+03</td>\n",
       "      <td>5.334000e+03</td>\n",
       "    </tr>\n",
       "    <tr>\n",
       "      <th>50%</th>\n",
       "      <td>5000.50000</td>\n",
       "      <td>3.949655e+05</td>\n",
       "      <td>4.251235e+05</td>\n",
       "      <td>2.719524e+06</td>\n",
       "      <td>40.000000</td>\n",
       "      <td>9.780452e+12</td>\n",
       "      <td>2004.000000</td>\n",
       "      <td>4.020000</td>\n",
       "      <td>2.115550e+04</td>\n",
       "      <td>2.383250e+04</td>\n",
       "      <td>1402.000000</td>\n",
       "      <td>391.000000</td>\n",
       "      <td>1163.000000</td>\n",
       "      <td>4894.000000</td>\n",
       "      <td>8.269500e+03</td>\n",
       "      <td>8.836000e+03</td>\n",
       "    </tr>\n",
       "    <tr>\n",
       "      <th>75%</th>\n",
       "      <td>7500.25000</td>\n",
       "      <td>9.382225e+06</td>\n",
       "      <td>9.636112e+06</td>\n",
       "      <td>1.451775e+07</td>\n",
       "      <td>67.000000</td>\n",
       "      <td>9.780831e+12</td>\n",
       "      <td>2011.000000</td>\n",
       "      <td>4.180000</td>\n",
       "      <td>4.105350e+04</td>\n",
       "      <td>4.591500e+04</td>\n",
       "      <td>2744.250000</td>\n",
       "      <td>885.000000</td>\n",
       "      <td>2353.250000</td>\n",
       "      <td>9287.000000</td>\n",
       "      <td>1.602350e+04</td>\n",
       "      <td>1.730450e+04</td>\n",
       "    </tr>\n",
       "    <tr>\n",
       "      <th>max</th>\n",
       "      <td>10000.00000</td>\n",
       "      <td>3.328864e+07</td>\n",
       "      <td>3.553423e+07</td>\n",
       "      <td>5.639960e+07</td>\n",
       "      <td>3455.000000</td>\n",
       "      <td>9.790008e+12</td>\n",
       "      <td>2017.000000</td>\n",
       "      <td>4.820000</td>\n",
       "      <td>4.780653e+06</td>\n",
       "      <td>4.942365e+06</td>\n",
       "      <td>155254.000000</td>\n",
       "      <td>456191.000000</td>\n",
       "      <td>436802.000000</td>\n",
       "      <td>793319.000000</td>\n",
       "      <td>1.481305e+06</td>\n",
       "      <td>3.011543e+06</td>\n",
       "    </tr>\n",
       "  </tbody>\n",
       "</table>\n",
       "</div>"
      ],
      "text/plain": [
       "                id       book_id  best_book_id       work_id   books_count  \\\n",
       "count  10000.00000  1.000000e+04  1.000000e+04  1.000000e+04  10000.000000   \n",
       "mean    5000.50000  5.264697e+06  5.471214e+06  8.646183e+06     75.712700   \n",
       "std     2886.89568  7.575462e+06  7.827330e+06  1.175106e+07    170.470728   \n",
       "min        1.00000  1.000000e+00  1.000000e+00  8.700000e+01      1.000000   \n",
       "25%     2500.75000  4.627575e+04  4.791175e+04  1.008841e+06     23.000000   \n",
       "50%     5000.50000  3.949655e+05  4.251235e+05  2.719524e+06     40.000000   \n",
       "75%     7500.25000  9.382225e+06  9.636112e+06  1.451775e+07     67.000000   \n",
       "max    10000.00000  3.328864e+07  3.553423e+07  5.639960e+07   3455.000000   \n",
       "\n",
       "             isbn13  original_publication_year  average_rating  ratings_count  \\\n",
       "count  9.415000e+03                9979.000000    10000.000000   1.000000e+04   \n",
       "mean   9.755044e+12                1981.987674        4.002191   5.400124e+04   \n",
       "std    4.428619e+11                 152.576665        0.254427   1.573700e+05   \n",
       "min    1.951703e+08               -1750.000000        2.470000   2.716000e+03   \n",
       "25%    9.780316e+12                1990.000000        3.850000   1.356875e+04   \n",
       "50%    9.780452e+12                2004.000000        4.020000   2.115550e+04   \n",
       "75%    9.780831e+12                2011.000000        4.180000   4.105350e+04   \n",
       "max    9.790008e+12                2017.000000        4.820000   4.780653e+06   \n",
       "\n",
       "       work_ratings_count  work_text_reviews_count      ratings_1  \\\n",
       "count        1.000000e+04             10000.000000   10000.000000   \n",
       "mean         5.968732e+04              2919.955300    1345.040600   \n",
       "std          1.678038e+05              6124.378132    6635.626263   \n",
       "min          5.510000e+03                 3.000000      11.000000   \n",
       "25%          1.543875e+04               694.000000     196.000000   \n",
       "50%          2.383250e+04              1402.000000     391.000000   \n",
       "75%          4.591500e+04              2744.250000     885.000000   \n",
       "max          4.942365e+06            155254.000000  456191.000000   \n",
       "\n",
       "           ratings_2      ratings_3     ratings_4     ratings_5  \n",
       "count   10000.000000   10000.000000  1.000000e+04  1.000000e+04  \n",
       "mean     3110.885000   11475.893800  1.996570e+04  2.378981e+04  \n",
       "std      9717.123578   28546.449183  5.144736e+04  7.976889e+04  \n",
       "min        30.000000     323.000000  7.500000e+02  7.540000e+02  \n",
       "25%       656.000000    3112.000000  5.405750e+03  5.334000e+03  \n",
       "50%      1163.000000    4894.000000  8.269500e+03  8.836000e+03  \n",
       "75%      2353.250000    9287.000000  1.602350e+04  1.730450e+04  \n",
       "max    436802.000000  793319.000000  1.481305e+06  3.011543e+06  "
      ]
     },
     "execution_count": 3,
     "metadata": {},
     "output_type": "execute_result"
    }
   ],
   "source": [
    "books.describe()"
   ]
  },
  {
   "cell_type": "markdown",
   "id": "5be4d35e",
   "metadata": {},
   "source": [
    "Kita akan menghapus kolom-kolom yang tidak diperlukan untuk analisis kita, seperti isbn, isbn13, image_url, dan small_image_url."
   ]
  },
  {
   "cell_type": "code",
   "execution_count": 4,
   "id": "3a85e0b0",
   "metadata": {},
   "outputs": [],
   "source": [
    "books.drop(['isbn', 'isbn13', 'image_url', 'small_image_url','id','book_id','best_book_id','work_id'], axis=1, inplace=True)\n"
   ]
  },
  {
   "cell_type": "code",
   "execution_count": 5,
   "id": "b326373c",
   "metadata": {},
   "outputs": [],
   "source": [
    "books = books.dropna()"
   ]
  },
  {
   "cell_type": "markdown",
   "id": "78fca654",
   "metadata": {},
   "source": [
    "Agar lebih mudah dalam membaca data, kita akan mengubah nama kolom book_id menjadi id, num_pages menjadi pages, dan average_rating menjadi rating."
   ]
  },
  {
   "cell_type": "code",
   "execution_count": 6,
   "id": "07880ee6",
   "metadata": {},
   "outputs": [],
   "source": [
    "books.rename(columns={ 'average_rating': 'rating'}, inplace=True)\n"
   ]
  },
  {
   "cell_type": "markdown",
   "id": "b803dc66",
   "metadata": {},
   "source": [
    "Setelah melihat informasi tentang dataset kita, kita melihat bahwa kolom language_code memiliki nilai yang hilang. Kita dapat mengisi nilai yang hilang tersebut dengan nilai unknown."
   ]
  },
  {
   "cell_type": "code",
   "execution_count": 7,
   "id": "934c0bfa",
   "metadata": {},
   "outputs": [],
   "source": [
    "books['language_code'].fillna('unknown', inplace=True)\n"
   ]
  },
  {
   "cell_type": "markdown",
   "id": "8669203e",
   "metadata": {},
   "source": [
    "Beberapa kolom membutuhkan pengubahan tipe data agar sesuai dengan jenis data yang sesuai. Kolom id perlu diubah menjadi tipe data int, kolom authors perlu diubah menjadi tipe data str, dan kolom publication_date perlu diubah menjadi tipe data datetime."
   ]
  },
  {
   "cell_type": "code",
   "execution_count": 9,
   "id": "bb35f04f",
   "metadata": {},
   "outputs": [],
   "source": [
    "books['authors'] = books['authors'].astype('str')\n"
   ]
  },
  {
   "cell_type": "markdown",
   "id": "db7f8297",
   "metadata": {},
   "source": [
    "Kita perlu memeriksa apakah ada duplikat dalam dataset kita menggunakan fungsi duplicated(). Jika ada duplikat, kita dapat menghapusnya menggunakan fungsi drop_duplicates()."
   ]
  },
  {
   "cell_type": "code",
   "execution_count": 10,
   "id": "d67a1e41",
   "metadata": {},
   "outputs": [
    {
     "name": "stdout",
     "output_type": "stream",
     "text": [
      "0\n"
     ]
    }
   ],
   "source": [
    "print(books.duplicated().sum()) # Cek apakah ada duplikat\n",
    "books.drop_duplicates(inplace=True) # Menghapus duplikat\n"
   ]
  },
  {
   "cell_type": "markdown",
   "id": "beb9e484",
   "metadata": {},
   "source": [
    "# Feature Engineering"
   ]
  },
  {
   "cell_type": "markdown",
   "id": "232567ee",
   "metadata": {},
   "source": [
    "Kita dapat mengekstrak genre dari kolom title menggunakan regex. Kita dapat menggunakan modul re untuk melakukan hal ini."
   ]
  },
  {
   "cell_type": "code",
   "execution_count": 11,
   "id": "5618c668",
   "metadata": {},
   "outputs": [],
   "source": [
    "genre_list = ['Mystery', 'Romance', 'Fiction', 'Fantasy', 'Nonfiction', 'Children', 'Horror', 'Thriller', 'Young Adult', 'Biography', 'Historical', 'Comics']\n",
    "\n",
    "def extract_genre(text):\n",
    "    for genre in genre_list:\n",
    "        if re.search(genre, text, re.IGNORECASE):\n",
    "            return genre\n",
    "    return 'Other'\n",
    "\n",
    "books['genre'] = books['title'].apply(extract_genre)"
   ]
  },
  {
   "cell_type": "markdown",
   "id": "f6643a29",
   "metadata": {},
   "source": [
    "Kita dapat menambahkan kolom author_count untuk menghitung jumlah penulis pada setiap buku."
   ]
  },
  {
   "cell_type": "code",
   "execution_count": 12,
   "id": "b2e8b69c",
   "metadata": {},
   "outputs": [],
   "source": [
    "books['author_count'] = books['authors'].apply(lambda x: len(x.split(',')))\n"
   ]
  },
  {
   "cell_type": "markdown",
   "id": "e0981cd6",
   "metadata": {},
   "source": [
    "# EDA"
   ]
  },
  {
   "cell_type": "markdown",
   "id": "bec7f4da",
   "metadata": {},
   "source": [
    "Mencari jumlah buku"
   ]
  },
  {
   "cell_type": "code",
   "execution_count": 13,
   "id": "11d0db5d",
   "metadata": {},
   "outputs": [
    {
     "name": "stdout",
     "output_type": "stream",
     "text": [
      "Jumlah buku: 8405\n"
     ]
    }
   ],
   "source": [
    "print(f\"Jumlah buku: {books.shape[0]}\")"
   ]
  },
  {
   "cell_type": "markdown",
   "id": "c8ec5fb0",
   "metadata": {},
   "source": [
    "Menghitung jumlah penulis buku dalam dataset yang disediakan"
   ]
  },
  {
   "cell_type": "code",
   "execution_count": 14,
   "id": "3933084f",
   "metadata": {},
   "outputs": [
    {
     "name": "stdout",
     "output_type": "stream",
     "text": [
      "Jumlah penulis unik: 5043\n"
     ]
    }
   ],
   "source": [
    "authors = books['authors'].str.split(',').explode().str.strip().unique()\n",
    "print(f\"Jumlah penulis unik: {len(authors)}\")"
   ]
  },
  {
   "cell_type": "markdown",
   "id": "950395f2",
   "metadata": {},
   "source": [
    "Mengetahui genre populer dari buku"
   ]
  },
  {
   "cell_type": "code",
   "execution_count": 15,
   "id": "711b6577",
   "metadata": {},
   "outputs": [
    {
     "name": "stdout",
     "output_type": "stream",
     "text": [
      "Other         8308\n",
      "Children        39\n",
      "Biography       17\n",
      "Mystery         11\n",
      "Romance          9\n",
      "Fiction          9\n",
      "Horror           3\n",
      "Comics           3\n",
      "Fantasy          3\n",
      "Thriller         2\n",
      "Historical       1\n",
      "Name: genre, dtype: int64\n"
     ]
    },
    {
     "data": {
      "image/png": "[encoded data removed]",
      "text/plain": [
       "<Figure size 640x480 with 1 Axes>"
      ]
     },
     "metadata": {},
     "output_type": "display_data"
    }
   ],
   "source": [
    "genre_counts = books['genre'].value_counts()\n",
    "print(genre_counts)\n",
    "\n",
    "plt.bar(genre_counts.index, genre_counts.values)\n",
    "plt.xticks(rotation=45)\n",
    "plt.xlabel('Genre')\n",
    "plt.ylabel('Jumlah Buku')\n",
    "plt.title('Jumlah Buku per Genre')\n",
    "plt.show()"
   ]
  },
  {
   "cell_type": "markdown",
   "id": "42c66ce7",
   "metadata": {},
   "source": [
    "Mencari tahu distribusi penerbitan buku"
   ]
  },
  {
   "cell_type": "code",
   "execution_count": 16,
   "id": "29172b4b",
   "metadata": {},
   "outputs": [
    {
     "name": "stdout",
     "output_type": "stream",
     "text": [
      "-1750.0      1\n",
      "-762.0       1\n",
      "-750.0       2\n",
      "-720.0       1\n",
      "-560.0       1\n",
      "          ... \n",
      " 2013.0    424\n",
      " 2014.0    381\n",
      " 2015.0    244\n",
      " 2016.0    170\n",
      " 2017.0      9\n",
      "Name: original_publication_year, Length: 276, dtype: int64\n"
     ]
    },
    {
     "data": {
      "image/png": "[encoded data removed]",
      "text/plain": [
       "<Figure size 640x480 with 1 Axes>"
      ]
     },
     "metadata": {},
     "output_type": "display_data"
    }
   ],
   "source": [
    "year_counts = books['original_publication_year'].value_counts().sort_index()\n",
    "print(year_counts)\n",
    "\n",
    "plt.plot(year_counts.index, year_counts.values)\n",
    "plt.xticks(rotation=45)\n",
    "plt.xlabel('Tahun Publikasi')\n",
    "plt.ylabel('Jumlah Buku')\n",
    "plt.title('Jumlah Buku per Tahun Publikasi')\n",
    "plt.show()"
   ]
  },
  {
   "cell_type": "markdown",
   "id": "f66d6e6a",
   "metadata": {},
   "source": [
    "Mengetahui distribusi penulis dengan jumlah buku yang diterbitkan"
   ]
  },
  {
   "cell_type": "code",
   "execution_count": 17,
   "id": "260230d5",
   "metadata": {},
   "outputs": [
    {
     "data": {
      "image/png": "[encoded data removed]",
      "text/plain": [
       "<Figure size 640x480 with 1 Axes>"
      ]
     },
     "metadata": {},
     "output_type": "display_data"
    }
   ],
   "source": [
    "author_counts = books['authors'].str.split(',').explode().str.strip().value_counts().head(10)\n",
    "\n",
    "sns.barplot(x=author_counts.index, y=author_counts.values)\n",
    "plt.xticks(rotation=45)\n",
    "plt.xlabel('Penulis')\n",
    "plt.ylabel('Jumlah Buku')\n",
    "plt.title('Penulis dengan Jumlah Buku Terbanyak')\n",
    "plt.show()"
   ]
  },
  {
   "cell_type": "markdown",
   "id": "8888bd62",
   "metadata": {},
   "source": [
    "Mengetahui distribusi rating buku"
   ]
  },
  {
   "cell_type": "code",
   "execution_count": 18,
   "id": "41859d8e",
   "metadata": {},
   "outputs": [
    {
     "data": {
      "image/png": "[encoded data removed]",
      "text/plain": [
       "<Figure size 640x480 with 1 Axes>"
      ]
     },
     "metadata": {},
     "output_type": "display_data"
    }
   ],
   "source": [
    "sns.histplot(x='rating', data=books, bins=20)\n",
    "plt.xlabel('Rating')\n",
    "plt.ylabel('Jumlah Buku')\n",
    "plt.title('Distribusi Rating Buku')\n",
    "plt.show()"
   ]
  },
  {
   "cell_type": "markdown",
   "id": "c947f59e",
   "metadata": {},
   "source": [
    "Mengetahui distribusi bahasa"
   ]
  },
  {
   "cell_type": "code",
   "execution_count": 19,
   "id": "a82deb93",
   "metadata": {
    "scrolled": false
   },
   "outputs": [
    {
     "data": {
      "image/png": "[encoded data removed]",
      "text/plain": [
       "<Figure size 640x480 with 1 Axes>"
      ]
     },
     "metadata": {},
     "output_type": "display_data"
    }
   ],
   "source": [
    "language_counts = books['language_code'].value_counts()\n",
    "\n",
    "sns.barplot(x=language_counts.index, y=language_counts.values)\n",
    "plt.xticks(rotation=45)\n",
    "plt.xlabel('Kode Bahasa')\n",
    "plt.ylabel('Jumlah Buku')\n",
    "plt.title('Distribusi Bahasa Buku')\n",
    "plt.show()"
   ]
  },
  {
   "cell_type": "markdown",
   "id": "9c95a378",
   "metadata": {},
   "source": [
    "# Book Recommender"
   ]
  },
  {
   "cell_type": "code",
   "execution_count": 21,
   "id": "728fc600",
   "metadata": {},
   "outputs": [],
   "source": [
    "#Buat fungsi untuk mendapatkan index dari buku berdasarkan judul dan penulisnya\n",
    "def get_book_index(title, author):\n",
    "    index = books[(books['title'] == title) & (books['authors'] == author)].index.tolist()\n",
    "    if len(index) == 0:\n",
    "        return -1\n",
    "    else:\n",
    "        return index"
   ]
  },
  {
   "cell_type": "code",
   "execution_count": 22,
   "id": "2b466405",
   "metadata": {},
   "outputs": [],
   "source": [
    "#Buat fungsi untuk melakukan prediksi buku jika buku yang diinput tidak ditemukan di dalam dataset\n",
    "def predict_book(title, author):\n",
    "    # Membuat vektor TF-IDF untuk setiap buku\n",
    "    tfidf_vectorizer = TfidfVectorizer()\n",
    "    tfidf = tfidf_vectorizer.fit_transform(books['title'].astype(str) + \" \" + books['authors'].astype(str))\n",
    "    # Mencari buku yang paling mirip dengan buku yang diinput\n",
    "    query = tfidf_vectorizer.transform([title + \" \" + author])\n",
    "    cosine_similarities = cosine_similarity(query, tfidf).flatten()\n",
    "    related_docs_indices = cosine_similarities.argsort()[:-2:-1]\n",
    "    index = related_docs_indices[0]\n",
    "    return index\n"
   ]
  },
  {
   "cell_type": "code",
   "execution_count": 23,
   "id": "47511041",
   "metadata": {
    "scrolled": false
   },
   "outputs": [
    {
     "name": "stdout",
     "output_type": "stream",
     "text": [
      "Masukkan judul buku pertama yang disukai: Sapiens\n",
      "Masukkan nama pengarang buku pertama yang disukai: Harari\n"
     ]
    },
    {
     "data": {
      "text/plain": [
       "books_count                                                    109\n",
       "authors                                          Yuval Noah Harari\n",
       "original_publication_year                                   2011.0\n",
       "original_title                              קיצור תולדות האנושות‎‎\n",
       "title                        Sapiens: A Brief History of Humankind\n",
       "language_code                                                  eng\n",
       "rating                                                        4.41\n",
       "ratings_count                                                52846\n",
       "work_ratings_count                                           71074\n",
       "work_text_reviews_count                                       6685\n",
       "ratings_1                                                      996\n",
       "ratings_2                                                     1627\n",
       "ratings_3                                                     6468\n",
       "ratings_4                                                    19971\n",
       "ratings_5                                                    42012\n",
       "genre                                                        Other\n",
       "author_count                                                     1\n",
       "Name: 2204, dtype: object"
      ]
     },
     "execution_count": 23,
     "metadata": {},
     "output_type": "execute_result"
    }
   ],
   "source": [
    "'''\n",
    "User menginputkan 3 buku kesukaannya dan pengarangnya, lalu kode akan melakukan prediksi index\n",
    "dari setiap buku tersebut\n",
    "'''\n",
    "book1_title = input(\"Masukkan judul buku pertama yang disukai: \")\n",
    "book1_author = input(\"Masukkan nama pengarang buku pertama yang disukai: \")\n",
    "book1_index = get_book_index(book1_title, book1_author)\n",
    "if book1_index == -1:\n",
    "    book1_index = predict_book(book1_title, book1_author)\n",
    "\n",
    "books.iloc[book1_index]"
   ]
  },
  {
   "cell_type": "code",
   "execution_count": 24,
   "id": "035f07a0",
   "metadata": {},
   "outputs": [
    {
     "name": "stdout",
     "output_type": "stream",
     "text": [
      "Masukkan judul buku kedua yang disukai: Cosmos\n",
      "Masukkan nama pengarang buku kedua yang disukai: Sagan\n"
     ]
    },
    {
     "data": {
      "text/plain": [
       "books_count                          93\n",
       "authors                      Carl Sagan\n",
       "original_publication_year        1980.0\n",
       "original_title                   Cosmos\n",
       "title                            Cosmos\n",
       "language_code                       eng\n",
       "rating                             4.35\n",
       "ratings_count                     76440\n",
       "work_ratings_count                81022\n",
       "work_text_reviews_count            1833\n",
       "ratings_1                          1403\n",
       "ratings_2                          2044\n",
       "ratings_3                          8926\n",
       "ratings_4                         22885\n",
       "ratings_5                         45764\n",
       "genre                             Other\n",
       "author_count                          1\n",
       "Name: 1234, dtype: object"
      ]
     },
     "execution_count": 24,
     "metadata": {},
     "output_type": "execute_result"
    }
   ],
   "source": [
    "book2_title = input(\"Masukkan judul buku kedua yang disukai: \")\n",
    "book2_author = input(\"Masukkan nama pengarang buku kedua yang disukai: \")\n",
    "book2_index = get_book_index(book2_title, book2_author)\n",
    "if book2_index == -1:\n",
    "    book2_index = predict_book(book2_title, book2_author)\n",
    "\n",
    "books.iloc[book2_index]\n"
   ]
  },
  {
   "cell_type": "code",
   "execution_count": 25,
   "id": "faf57e3e",
   "metadata": {},
   "outputs": [
    {
     "name": "stdout",
     "output_type": "stream",
     "text": [
      "Masukkan judul buku ketiga yang disukai: Genome\n",
      "Masukkan nama pengarang buku ketiga yang disukai: Riddley\n"
     ]
    },
    {
     "data": {
      "text/plain": [
       "books_count                                                                 44\n",
       "authors                                                            Matt Ridley\n",
       "original_publication_year                                               1999.0\n",
       "original_title               Genome: The Autobiography of a Species in 23 C...\n",
       "title                        Genome: the Autobiography of a Species in 23 C...\n",
       "language_code                                                            en-US\n",
       "rating                                                                    4.02\n",
       "ratings_count                                                            17684\n",
       "work_ratings_count                                                       18917\n",
       "work_text_reviews_count                                                    713\n",
       "ratings_1                                                                  422\n",
       "ratings_2                                                                  777\n",
       "ratings_3                                                                 3656\n",
       "ratings_4                                                                 7196\n",
       "ratings_5                                                                 6866\n",
       "genre                                                                Biography\n",
       "author_count                                                                 1\n",
       "Name: 5026, dtype: object"
      ]
     },
     "execution_count": 25,
     "metadata": {},
     "output_type": "execute_result"
    }
   ],
   "source": [
    "book3_title = input(\"Masukkan judul buku ketiga yang disukai: \")\n",
    "book3_author = input(\"Masukkan nama pengarang buku ketiga yang disukai: \")\n",
    "book3_index = get_book_index(book3_title, book3_author)\n",
    "if book3_index == -1:\n",
    "    book3_index = predict_book(book3_title, book3_author)\n",
    "\n",
    "books.iloc[book3_index]\n"
   ]
  },
  {
   "cell_type": "code",
   "execution_count": 26,
   "id": "e0d9168a",
   "metadata": {},
   "outputs": [
    {
     "data": {
      "text/plain": [
       "Index(['books_count', 'authors', 'original_publication_year', 'original_title',\n",
       "       'title', 'language_code', 'rating', 'ratings_count',\n",
       "       'work_ratings_count', 'work_text_reviews_count', 'ratings_1',\n",
       "       'ratings_2', 'ratings_3', 'ratings_4', 'ratings_5', 'genre',\n",
       "       'author_count'],\n",
       "      dtype='object')"
      ]
     },
     "execution_count": 26,
     "metadata": {},
     "output_type": "execute_result"
    }
   ],
   "source": [
    "books.columns"
   ]
  },
  {
   "cell_type": "code",
   "execution_count": 36,
   "id": "d3ecc8ac",
   "metadata": {},
   "outputs": [],
   "source": [
    "def book_recommendation(book1_index, book2_index, book3_index, n_recommendation):\n",
    "    selected_books = books.iloc[[book1_index, book2_index, book3_index]]\n",
    "\n",
    "    # Ambil nama penulis dan judul dari buku yang disukai\n",
    "    author_title = selected_books[['authors', 'title']]\n",
    "\n",
    "    # Mencari buku yang memiliki kemiripan dengan buku yang disukai\n",
    "    similar_books = books[books.apply(lambda x: x[['authors', 'title']].equals(author_title), axis=1)]\n",
    "\n",
    "    # Menghitung cosine similarity dari buku yang dipilih dengan buku lain\n",
    "    similarity_matrix = cosine_similarity(selected_books.iloc[:, -5:-1], books.iloc[:, -5:-1])\n",
    "\n",
    "    # Hitung similaritas rata-rata\n",
    "    avg_similarity = similarity_matrix.mean(axis=0)\n",
    "\n",
    "    # Dapatkan indeks dari n jumlah buku yang mirip\n",
    "    recommended_books_index = avg_similarity.argsort()[::-1][n_recommendation:]\n",
    "\n",
    "    return recommended_books_index"
   ]
  },
  {
   "cell_type": "code",
   "execution_count": 35,
   "id": "09d7c27b",
   "metadata": {},
   "outputs": [
    {
     "data": {
      "text/plain": [
       "[3367, 315, 7154, 9827, 6309]"
      ]
     },
     "execution_count": 35,
     "metadata": {},
     "output_type": "execute_result"
    }
   ],
   "source": [
    "recommended_books_index"
   ]
  },
  {
   "cell_type": "code",
   "execution_count": 59,
   "id": "95b078fc",
   "metadata": {},
   "outputs": [
    {
     "name": "stdout",
     "output_type": "stream",
     "text": [
      "Rekomendasi buku yang mungkin anda sukai:\n",
      "\n",
      "books_count                                                          50.0\n",
      "authors                                       Sarah Blake, Orlagh Cassidy\n",
      "original_publication_year                                          2009.0\n",
      "original_title                                           The Postmistress\n",
      "title                                                    The Postmistress\n",
      "language_code                                                         eng\n",
      "rating                                                                3.3\n",
      "ratings_count                                                     30320.0\n",
      "work_ratings_count                                                35271.0\n",
      "work_text_reviews_count                                            5127.0\n",
      "ratings_1                                                          1474.0\n",
      "ratings_2                                                          5324.0\n",
      "ratings_3                                                         13532.0\n",
      "ratings_4                                                         11074.0\n",
      "ratings_5                                                          3867.0\n",
      "genre                                                                None\n",
      "author_count                                                          2.0\n",
      "genre_classification                                              unknown\n",
      "text                         Sarah Blake, Orlagh Cassidy The Postmistress\n",
      "predicted_genre                                                         0\n",
      "Name: 3723, dtype: object\n",
      "-------------------------------------------------------\n",
      "Rekomendasi buku yang mungkin anda sukai:\n",
      "\n",
      "books_count                                                               94.0\n",
      "authors                                                          Robert Jordan\n",
      "original_publication_year                                               1990.0\n",
      "original_title                                            The Eye of the World\n",
      "title                                 The Eye of the World (Wheel of Time, #1)\n",
      "language_code                                                              eng\n",
      "rating                                                                    4.18\n",
      "ratings_count                                                         260184.0\n",
      "work_ratings_count                                                    272983.0\n",
      "work_text_reviews_count                                                 8212.0\n",
      "ratings_1                                                               6163.0\n",
      "ratings_2                                                              11298.0\n",
      "ratings_3                                                              38946.0\n",
      "ratings_4                                                              88024.0\n",
      "ratings_5                                                             128552.0\n",
      "genre                                                                       []\n",
      "author_count                                                               1.0\n",
      "genre_classification                                                   unknown\n",
      "text                         Robert Jordan The Eye of the World (Wheel of T...\n",
      "predicted_genre                                                              0\n",
      "Name: 329, dtype: object\n",
      "-------------------------------------------------------\n",
      "Rekomendasi buku yang mungkin anda sukai:\n",
      "\n",
      "books_count                                         30.0\n",
      "authors                                     Carl Hiaasen\n",
      "original_publication_year                         1995.0\n",
      "original_title                            Stormy Weather\n",
      "title                                     Stormy Weather\n",
      "language_code                                      en-US\n",
      "rating                                              3.94\n",
      "ratings_count                                    11452.0\n",
      "work_ratings_count                               12735.0\n",
      "work_text_reviews_count                            698.0\n",
      "ratings_1                                           80.0\n",
      "ratings_2                                          400.0\n",
      "ratings_3                                         3125.0\n",
      "ratings_4                                         5729.0\n",
      "ratings_5                                         3401.0\n",
      "genre                                               None\n",
      "author_count                                         1.0\n",
      "genre_classification                             unknown\n",
      "text                         Carl Hiaasen Stormy Weather\n",
      "predicted_genre                                        0\n",
      "Name: 8348, dtype: object\n",
      "-------------------------------------------------------\n"
     ]
    }
   ],
   "source": [
    "recommended_books_index = recommend_books(book1_index, book2_index, book3_index, n_recommendation = 3)\n",
    "\n",
    "for i in recommended_books_index:\n",
    "    print('Rekomendasi buku yang mungkin anda sukai:\\n')\n",
    "    print(books.iloc[i])\n",
    "    print('-------------------------------------------------------')"
   ]
  }
 ],
 "metadata": {
  "kernelspec": {
   "display_name": "Python 3 (ipykernel)",
   "language": "python",
   "name": "python3"
  },
  "language_info": {
   "codemirror_mode": {
    "name": "ipython",
    "version": 3
   },
   "file_extension": ".py",
   "mimetype": "text/x-python",
   "name": "python",
   "nbconvert_exporter": "python",
   "pygments_lexer": "ipython3",
   "version": "3.11.2"
  }
 },
 "nbformat": 4,
 "nbformat_minor": 5
}
